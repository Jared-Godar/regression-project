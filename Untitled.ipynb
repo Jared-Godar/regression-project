{
 "cells": [
  {
   "cell_type": "code",
   "execution_count": 1,
   "id": "96aa9000-a5de-4ccd-b02e-9117b4ea423e",
   "metadata": {},
   "outputs": [],
   "source": [
    "# Basic libraries\n",
    "import pandas as pd\n",
    "import numpy as np \n",
    "\n",
    "#Vizualization Tools\n",
    "import matplotlib.pyplot as plt\n",
    "import seaborn as sns\n",
    "\n",
    "#Modeling Tools\n",
    "from sklearn.model_selection import train_test_split\n",
    "from sklearn.impute import SimpleImputer\n",
    "import statsmodels.api as sm\n",
    "from statsmodels.formula.api import ols\n",
    "\n",
    "from datetime import date\n",
    "from scipy import stats\n",
    "\n",
    "\n",
    "## Evaluation tools\n",
    "from sklearn.metrics import mean_squared_error\n",
    "from sklearn.metrics import r2_score\n",
    "from math import sqrt\n",
    "\n",
    "import warnings\n",
    "warnings.filterwarnings(\"ignore\")\n",
    "\n",
    "#Custim functions\n",
    "from env import host, user, password #Database credentials\n",
    "import zillo_wrangle\n",
    "import eval_model"
   ]
  },
  {
   "cell_type": "code",
   "execution_count": 2,
   "id": "05751d7e-0dc2-4639-ab04-7ba98532b99c",
   "metadata": {},
   "outputs": [
    {
     "name": "stderr",
     "output_type": "stream",
     "text": [
      "NumExpr defaulting to 8 threads.\n"
     ]
    }
   ],
   "source": [
    "train, X_train, y_train, X_validate, y_validate, X_test, y_test = zillo_wrangle.wrangle()"
   ]
  },
  {
   "cell_type": "code",
   "execution_count": null,
   "id": "8b76d48d-98a0-4177-bd6f-5b6ea8cd9f1f",
   "metadata": {},
   "outputs": [],
   "source": [
    "train.head()"
   ]
  },
  {
   "cell_type": "code",
   "execution_count": 4,
   "id": "e132cadb-77ed-48a2-b204-b877d1f9ae12",
   "metadata": {},
   "outputs": [
    {
     "data": {
      "application/vnd.jupyter.widget-view+json": {
       "model_id": "828625df24d5438d8345f0aae428bacb",
       "version_major": 2,
       "version_minor": 0
      },
      "text/plain": [
       "MitoWidget(analysis_data_json='{\"analysisName\": \"UUID-44acfd3d-d3be-472c-997b-aac2473f275d\", \"code\": {\"imports…"
      ]
     },
     "metadata": {},
     "output_type": "display_data"
    }
   ],
   "source": [
    "import mitosheet\n",
    "mitosheet.sheet(train, view_df=True)"
   ]
  },
  {
   "cell_type": "code",
   "execution_count": null,
   "id": "7506599d-f58f-4fc0-b54f-f0ff96cc780e",
   "metadata": {},
   "outputs": [],
   "source": [
    "from mitosheet import *; register_analysis('UUID-44acfd3d-d3be-472c-997b-aac2473f275d')\n",
    "\n",
    "# Reordered square_feet in train\n",
    "train_columns = [col for col in train.columns if col != 'square_feet']\n",
    "train_columns.insert(1, 'square_feet')\n",
    "train = train[train_columns]\n",
    "\n",
    "# Reordered bathrooms in train\n",
    "train_columns = [col for col in train.columns if col != 'bathrooms']\n",
    "train_columns.insert(1, 'bathrooms')\n",
    "train = train[train_columns]\n",
    "\n",
    "# Reordered square_feet in train\n",
    "train_columns = [col for col in train.columns if col != 'square_feet']\n",
    "train_columns.insert(1, 'square_feet')\n",
    "train = train[train_columns]\n",
    "\n",
    "# Reordered year in train\n",
    "train_columns = [col for col in train.columns if col != 'year']\n",
    "train_columns.insert(2, 'year')\n",
    "train = train[train_columns]\n"
   ]
  }
 ],
 "metadata": {
  "kernelspec": {
   "display_name": "Python 3",
   "language": "python",
   "name": "python3"
  },
  "language_info": {
   "codemirror_mode": {
    "name": "ipython",
    "version": 3
   },
   "file_extension": ".py",
   "mimetype": "text/x-python",
   "name": "python",
   "nbconvert_exporter": "python",
   "pygments_lexer": "ipython3",
   "version": "3.8.8"
  }
 },
 "nbformat": 4,
 "nbformat_minor": 5
}
