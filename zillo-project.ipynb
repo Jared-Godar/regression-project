{
 "cells": [
  {
   "cell_type": "markdown",
   "id": "6480e9ea",
   "metadata": {},
   "source": [
    "# Jared Godar Regression Project"
   ]
  },
  {
   "cell_type": "markdown",
   "id": "c73f641c",
   "metadata": {},
   "source": [
    "This is the overall working notebook used to acquire / prepare / clean / scale / and explore my zillo data.\n",
    "\n",
    "The modeling and evaluation portion will be in a second notebook `zillo-modeling.ipynb`\n",
    "\n",
    "Streamlined highlights from both notebooks can be found in the `zillo-report.ipynb` notebook."
   ]
  },
  {
   "cell_type": "markdown",
   "id": "37e1dca4",
   "metadata": {},
   "source": [
    "Import libraries used in project."
   ]
  },
  {
   "cell_type": "code",
   "execution_count": 51,
   "id": "8e25a03d",
   "metadata": {},
   "outputs": [],
   "source": [
    "# Basic libraries\n",
    "import pandas as pd\n",
    "import numpy as np \n",
    "\n",
    "#Vizualization Tools\n",
    "import matplotlib.pyplot as plt\n",
    "import seaborn as sns\n",
    "\n",
    "#Modeling Tools\n",
    "from sklearn.model_selection import train_test_split\n",
    "from sklearn.impute import SimpleImputer\n",
    "import statsmodels.api as sm\n",
    "\n",
    "\n",
    "import warnings\n",
    "warnings.filterwarnings(\"ignore\")\n",
    "\n",
    "#Custim functiona\n",
    "from env import host, user, password #Database credentials\n",
    "import zillo_wrangle\n"
   ]
  },
  {
   "cell_type": "markdown",
   "id": "d4ceaa0d",
   "metadata": {},
   "source": [
    "---"
   ]
  },
  {
   "cell_type": "markdown",
   "id": "08aff8bb",
   "metadata": {},
   "source": [
    "## Acquire"
   ]
  },
  {
   "cell_type": "code",
   "execution_count": 52,
   "id": "83c61d34",
   "metadata": {},
   "outputs": [],
   "source": [
    "# function to contact database\n",
    "def get_db_url(db_name):\n",
    "    return f\"mysql+pymysql://{user}:{password}@{host}/{db_name}\""
   ]
  },
  {
   "cell_type": "markdown",
   "id": "b8f1fa37",
   "metadata": {},
   "source": [
    "- Look at zillow data dictionary. \n",
    "- Import minimum features (beds, bath, tax, year, fips)\n",
    "- See what other columns may prove useful in model\n"
   ]
  },
  {
   "cell_type": "code",
   "execution_count": 53,
   "id": "34765b8c",
   "metadata": {},
   "outputs": [
    {
     "data": {
      "text/html": [
       "<div>\n",
       "<style scoped>\n",
       "    .dataframe tbody tr th:only-of-type {\n",
       "        vertical-align: middle;\n",
       "    }\n",
       "\n",
       "    .dataframe tbody tr th {\n",
       "        vertical-align: top;\n",
       "    }\n",
       "\n",
       "    .dataframe thead th {\n",
       "        text-align: right;\n",
       "    }\n",
       "</style>\n",
       "<table border=\"1\" class=\"dataframe\">\n",
       "  <thead>\n",
       "    <tr style=\"text-align: right;\">\n",
       "      <th></th>\n",
       "      <th>Feature</th>\n",
       "      <th>Description</th>\n",
       "    </tr>\n",
       "  </thead>\n",
       "  <tbody>\n",
       "    <tr>\n",
       "      <th>0</th>\n",
       "      <td>'airconditioningtypeid'</td>\n",
       "      <td>Type of cooling system present in the home (i...</td>\n",
       "    </tr>\n",
       "    <tr>\n",
       "      <th>1</th>\n",
       "      <td>'architecturalstyletypeid'</td>\n",
       "      <td>Architectural style of the home (i.e. ranch, ...</td>\n",
       "    </tr>\n",
       "    <tr>\n",
       "      <th>2</th>\n",
       "      <td>'basementsqft'</td>\n",
       "      <td>Finished living area below or partially below...</td>\n",
       "    </tr>\n",
       "    <tr>\n",
       "      <th>3</th>\n",
       "      <td>'bathroomcnt'</td>\n",
       "      <td>Number of bathrooms in home including fractio...</td>\n",
       "    </tr>\n",
       "    <tr>\n",
       "      <th>4</th>\n",
       "      <td>'bedroomcnt'</td>\n",
       "      <td>Number of bedrooms in home</td>\n",
       "    </tr>\n",
       "    <tr>\n",
       "      <th>5</th>\n",
       "      <td>'buildingqualitytypeid'</td>\n",
       "      <td>Overall assessment of condition of the buildi...</td>\n",
       "    </tr>\n",
       "    <tr>\n",
       "      <th>6</th>\n",
       "      <td>'buildingclasstypeid'</td>\n",
       "      <td>The building framing type (steel frame, wood f...</td>\n",
       "    </tr>\n",
       "    <tr>\n",
       "      <th>7</th>\n",
       "      <td>'calculatedbathnbr'</td>\n",
       "      <td>Number of bathrooms in home including fractio...</td>\n",
       "    </tr>\n",
       "    <tr>\n",
       "      <th>8</th>\n",
       "      <td>'decktypeid'</td>\n",
       "      <td>Type of deck (if any) present on parcel</td>\n",
       "    </tr>\n",
       "    <tr>\n",
       "      <th>9</th>\n",
       "      <td>'threequarterbathnbr'</td>\n",
       "      <td>Number of 3/4 bathrooms in house (shower + si...</td>\n",
       "    </tr>\n",
       "    <tr>\n",
       "      <th>10</th>\n",
       "      <td>'finishedfloor1squarefeet'</td>\n",
       "      <td>Size of the finished living area on the first...</td>\n",
       "    </tr>\n",
       "    <tr>\n",
       "      <th>11</th>\n",
       "      <td>'calculatedfinishedsquarefeet'</td>\n",
       "      <td>Calculated total finished living area of the ...</td>\n",
       "    </tr>\n",
       "    <tr>\n",
       "      <th>12</th>\n",
       "      <td>'finishedsquarefeet6'</td>\n",
       "      <td>Base unfinished and finished area</td>\n",
       "    </tr>\n",
       "    <tr>\n",
       "      <th>13</th>\n",
       "      <td>'finishedsquarefeet12'</td>\n",
       "      <td>Finished living area</td>\n",
       "    </tr>\n",
       "    <tr>\n",
       "      <th>14</th>\n",
       "      <td>'finishedsquarefeet13'</td>\n",
       "      <td>Perimeter  living area</td>\n",
       "    </tr>\n",
       "    <tr>\n",
       "      <th>15</th>\n",
       "      <td>'finishedsquarefeet15'</td>\n",
       "      <td>Total area</td>\n",
       "    </tr>\n",
       "    <tr>\n",
       "      <th>16</th>\n",
       "      <td>'finishedsquarefeet50'</td>\n",
       "      <td>Size of the finished living area on the first...</td>\n",
       "    </tr>\n",
       "    <tr>\n",
       "      <th>17</th>\n",
       "      <td>'fips'</td>\n",
       "      <td>Federal Information Processing Standard code ...</td>\n",
       "    </tr>\n",
       "    <tr>\n",
       "      <th>18</th>\n",
       "      <td>'fireplacecnt'</td>\n",
       "      <td>Number of fireplaces in a home (if any)</td>\n",
       "    </tr>\n",
       "    <tr>\n",
       "      <th>19</th>\n",
       "      <td>'fireplaceflag'</td>\n",
       "      <td>Is a fireplace present in this home</td>\n",
       "    </tr>\n",
       "    <tr>\n",
       "      <th>20</th>\n",
       "      <td>'fullbathcnt'</td>\n",
       "      <td>Number of full bathrooms (sink, shower + bath...</td>\n",
       "    </tr>\n",
       "    <tr>\n",
       "      <th>21</th>\n",
       "      <td>'garagecarcnt'</td>\n",
       "      <td>Total number of garages on the lot including ...</td>\n",
       "    </tr>\n",
       "    <tr>\n",
       "      <th>22</th>\n",
       "      <td>'garagetotalsqft'</td>\n",
       "      <td>Total number of square feet of all garages on...</td>\n",
       "    </tr>\n",
       "    <tr>\n",
       "      <th>23</th>\n",
       "      <td>'hashottuborspa'</td>\n",
       "      <td>Does the home have a hot tub or spa</td>\n",
       "    </tr>\n",
       "    <tr>\n",
       "      <th>24</th>\n",
       "      <td>'heatingorsystemtypeid'</td>\n",
       "      <td>Type of home heating system</td>\n",
       "    </tr>\n",
       "    <tr>\n",
       "      <th>25</th>\n",
       "      <td>'latitude'</td>\n",
       "      <td>Latitude of the middle of the parcel multipli...</td>\n",
       "    </tr>\n",
       "    <tr>\n",
       "      <th>26</th>\n",
       "      <td>'longitude'</td>\n",
       "      <td>Longitude of the middle of the parcel multipl...</td>\n",
       "    </tr>\n",
       "    <tr>\n",
       "      <th>27</th>\n",
       "      <td>'lotsizesquarefeet'</td>\n",
       "      <td>Area of the lot in square feet</td>\n",
       "    </tr>\n",
       "    <tr>\n",
       "      <th>28</th>\n",
       "      <td>'numberofstories'</td>\n",
       "      <td>Number of stories or levels the home has</td>\n",
       "    </tr>\n",
       "    <tr>\n",
       "      <th>29</th>\n",
       "      <td>'parcelid'</td>\n",
       "      <td>Unique identifier for parcels (lots)</td>\n",
       "    </tr>\n",
       "    <tr>\n",
       "      <th>30</th>\n",
       "      <td>'poolcnt'</td>\n",
       "      <td>Number of pools on the lot (if any)</td>\n",
       "    </tr>\n",
       "    <tr>\n",
       "      <th>31</th>\n",
       "      <td>'poolsizesum'</td>\n",
       "      <td>Total square footage of all pools on property</td>\n",
       "    </tr>\n",
       "    <tr>\n",
       "      <th>32</th>\n",
       "      <td>'pooltypeid10'</td>\n",
       "      <td>Spa or Hot Tub</td>\n",
       "    </tr>\n",
       "    <tr>\n",
       "      <th>33</th>\n",
       "      <td>'pooltypeid2'</td>\n",
       "      <td>Pool with Spa/Hot Tub</td>\n",
       "    </tr>\n",
       "    <tr>\n",
       "      <th>34</th>\n",
       "      <td>'pooltypeid7'</td>\n",
       "      <td>Pool without hot tub</td>\n",
       "    </tr>\n",
       "    <tr>\n",
       "      <th>35</th>\n",
       "      <td>'propertycountylandusecode'</td>\n",
       "      <td>County land use code i.e. it's zoning at the ...</td>\n",
       "    </tr>\n",
       "    <tr>\n",
       "      <th>36</th>\n",
       "      <td>'propertylandusetypeid'</td>\n",
       "      <td>Type of land use the property is zoned for</td>\n",
       "    </tr>\n",
       "    <tr>\n",
       "      <th>37</th>\n",
       "      <td>'propertyzoningdesc'</td>\n",
       "      <td>Description of the allowed land uses (zoning)...</td>\n",
       "    </tr>\n",
       "    <tr>\n",
       "      <th>38</th>\n",
       "      <td>'rawcensustractandblock'</td>\n",
       "      <td>Census tract and block ID combined - also con...</td>\n",
       "    </tr>\n",
       "    <tr>\n",
       "      <th>39</th>\n",
       "      <td>'censustractandblock'</td>\n",
       "      <td>Census tract and block ID combined - also con...</td>\n",
       "    </tr>\n",
       "    <tr>\n",
       "      <th>40</th>\n",
       "      <td>'regionidcounty'</td>\n",
       "      <td>County in which the property is located</td>\n",
       "    </tr>\n",
       "    <tr>\n",
       "      <th>41</th>\n",
       "      <td>'regionidcity'</td>\n",
       "      <td>City in which the property is located (if any)</td>\n",
       "    </tr>\n",
       "    <tr>\n",
       "      <th>42</th>\n",
       "      <td>'regionidzip'</td>\n",
       "      <td>Zip code in which the property is located</td>\n",
       "    </tr>\n",
       "    <tr>\n",
       "      <th>43</th>\n",
       "      <td>'regionidneighborhood'</td>\n",
       "      <td>Neighborhood in which the property is located</td>\n",
       "    </tr>\n",
       "    <tr>\n",
       "      <th>44</th>\n",
       "      <td>'roomcnt'</td>\n",
       "      <td>Total number of rooms in the principal residence</td>\n",
       "    </tr>\n",
       "    <tr>\n",
       "      <th>45</th>\n",
       "      <td>'storytypeid'</td>\n",
       "      <td>Type of floors in a multi-story house (i.e. b...</td>\n",
       "    </tr>\n",
       "    <tr>\n",
       "      <th>46</th>\n",
       "      <td>'typeconstructiontypeid'</td>\n",
       "      <td>What type of construction material was used t...</td>\n",
       "    </tr>\n",
       "    <tr>\n",
       "      <th>47</th>\n",
       "      <td>'unitcnt'</td>\n",
       "      <td>Number of units the structure is built into (...</td>\n",
       "    </tr>\n",
       "    <tr>\n",
       "      <th>48</th>\n",
       "      <td>'yardbuildingsqft17'</td>\n",
       "      <td>Patio in  yard</td>\n",
       "    </tr>\n",
       "    <tr>\n",
       "      <th>49</th>\n",
       "      <td>'yardbuildingsqft26'</td>\n",
       "      <td>Storage shed/building in yard</td>\n",
       "    </tr>\n",
       "    <tr>\n",
       "      <th>50</th>\n",
       "      <td>'yearbuilt'</td>\n",
       "      <td>The Year the principal residence was built</td>\n",
       "    </tr>\n",
       "    <tr>\n",
       "      <th>51</th>\n",
       "      <td>'taxvaluedollarcnt'</td>\n",
       "      <td>The total tax assessed value of the parcel</td>\n",
       "    </tr>\n",
       "    <tr>\n",
       "      <th>52</th>\n",
       "      <td>'structuretaxvaluedollarcnt'</td>\n",
       "      <td>The assessed value of the built structure on t...</td>\n",
       "    </tr>\n",
       "    <tr>\n",
       "      <th>53</th>\n",
       "      <td>'landtaxvaluedollarcnt'</td>\n",
       "      <td>The assessed value of the land area of the parcel</td>\n",
       "    </tr>\n",
       "    <tr>\n",
       "      <th>54</th>\n",
       "      <td>'taxamount'</td>\n",
       "      <td>The total property tax assessed for that asses...</td>\n",
       "    </tr>\n",
       "    <tr>\n",
       "      <th>55</th>\n",
       "      <td>'assessmentyear'</td>\n",
       "      <td>The year of the property tax assessment</td>\n",
       "    </tr>\n",
       "    <tr>\n",
       "      <th>56</th>\n",
       "      <td>'taxdelinquencyflag'</td>\n",
       "      <td>Property taxes for this parcel are past due as...</td>\n",
       "    </tr>\n",
       "    <tr>\n",
       "      <th>57</th>\n",
       "      <td>'taxdelinquencyyear'</td>\n",
       "      <td>Year for which the unpaid propert taxes were due</td>\n",
       "    </tr>\n",
       "  </tbody>\n",
       "</table>\n",
       "</div>"
      ],
      "text/plain": [
       "                           Feature  \\\n",
       "0          'airconditioningtypeid'   \n",
       "1       'architecturalstyletypeid'   \n",
       "2                   'basementsqft'   \n",
       "3                    'bathroomcnt'   \n",
       "4                     'bedroomcnt'   \n",
       "5          'buildingqualitytypeid'   \n",
       "6            'buildingclasstypeid'   \n",
       "7              'calculatedbathnbr'   \n",
       "8                     'decktypeid'   \n",
       "9            'threequarterbathnbr'   \n",
       "10      'finishedfloor1squarefeet'   \n",
       "11  'calculatedfinishedsquarefeet'   \n",
       "12           'finishedsquarefeet6'   \n",
       "13          'finishedsquarefeet12'   \n",
       "14          'finishedsquarefeet13'   \n",
       "15          'finishedsquarefeet15'   \n",
       "16          'finishedsquarefeet50'   \n",
       "17                          'fips'   \n",
       "18                  'fireplacecnt'   \n",
       "19                 'fireplaceflag'   \n",
       "20                   'fullbathcnt'   \n",
       "21                  'garagecarcnt'   \n",
       "22               'garagetotalsqft'   \n",
       "23                'hashottuborspa'   \n",
       "24         'heatingorsystemtypeid'   \n",
       "25                      'latitude'   \n",
       "26                     'longitude'   \n",
       "27             'lotsizesquarefeet'   \n",
       "28               'numberofstories'   \n",
       "29                      'parcelid'   \n",
       "30                       'poolcnt'   \n",
       "31                   'poolsizesum'   \n",
       "32                  'pooltypeid10'   \n",
       "33                   'pooltypeid2'   \n",
       "34                   'pooltypeid7'   \n",
       "35     'propertycountylandusecode'   \n",
       "36         'propertylandusetypeid'   \n",
       "37            'propertyzoningdesc'   \n",
       "38        'rawcensustractandblock'   \n",
       "39           'censustractandblock'   \n",
       "40                'regionidcounty'   \n",
       "41                  'regionidcity'   \n",
       "42                   'regionidzip'   \n",
       "43          'regionidneighborhood'   \n",
       "44                       'roomcnt'   \n",
       "45                   'storytypeid'   \n",
       "46        'typeconstructiontypeid'   \n",
       "47                       'unitcnt'   \n",
       "48            'yardbuildingsqft17'   \n",
       "49            'yardbuildingsqft26'   \n",
       "50                     'yearbuilt'   \n",
       "51             'taxvaluedollarcnt'   \n",
       "52    'structuretaxvaluedollarcnt'   \n",
       "53         'landtaxvaluedollarcnt'   \n",
       "54                     'taxamount'   \n",
       "55                'assessmentyear'   \n",
       "56            'taxdelinquencyflag'   \n",
       "57            'taxdelinquencyyear'   \n",
       "\n",
       "                                          Description  \n",
       "0    Type of cooling system present in the home (i...  \n",
       "1    Architectural style of the home (i.e. ranch, ...  \n",
       "2    Finished living area below or partially below...  \n",
       "3    Number of bathrooms in home including fractio...  \n",
       "4                         Number of bedrooms in home   \n",
       "5    Overall assessment of condition of the buildi...  \n",
       "6   The building framing type (steel frame, wood f...  \n",
       "7    Number of bathrooms in home including fractio...  \n",
       "8             Type of deck (if any) present on parcel  \n",
       "9    Number of 3/4 bathrooms in house (shower + si...  \n",
       "10   Size of the finished living area on the first...  \n",
       "11   Calculated total finished living area of the ...  \n",
       "12                  Base unfinished and finished area  \n",
       "13                               Finished living area  \n",
       "14                             Perimeter  living area  \n",
       "15                                         Total area  \n",
       "16   Size of the finished living area on the first...  \n",
       "17   Federal Information Processing Standard code ...  \n",
       "18            Number of fireplaces in a home (if any)  \n",
       "19               Is a fireplace present in this home   \n",
       "20   Number of full bathrooms (sink, shower + bath...  \n",
       "21   Total number of garages on the lot including ...  \n",
       "22   Total number of square feet of all garages on...  \n",
       "23                Does the home have a hot tub or spa  \n",
       "24                        Type of home heating system  \n",
       "25   Latitude of the middle of the parcel multipli...  \n",
       "26   Longitude of the middle of the parcel multipl...  \n",
       "27                     Area of the lot in square feet  \n",
       "28           Number of stories or levels the home has  \n",
       "29              Unique identifier for parcels (lots)   \n",
       "30                Number of pools on the lot (if any)  \n",
       "31      Total square footage of all pools on property  \n",
       "32                                     Spa or Hot Tub  \n",
       "33                              Pool with Spa/Hot Tub  \n",
       "34                               Pool without hot tub  \n",
       "35   County land use code i.e. it's zoning at the ...  \n",
       "36         Type of land use the property is zoned for  \n",
       "37   Description of the allowed land uses (zoning)...  \n",
       "38   Census tract and block ID combined - also con...  \n",
       "39   Census tract and block ID combined - also con...  \n",
       "40            County in which the property is located  \n",
       "41     City in which the property is located (if any)  \n",
       "42          Zip code in which the property is located  \n",
       "43      Neighborhood in which the property is located  \n",
       "44   Total number of rooms in the principal residence  \n",
       "45   Type of floors in a multi-story house (i.e. b...  \n",
       "46   What type of construction material was used t...  \n",
       "47   Number of units the structure is built into (...  \n",
       "48                                     Patio in  yard  \n",
       "49                      Storage shed/building in yard  \n",
       "50        The Year the principal residence was built   \n",
       "51         The total tax assessed value of the parcel  \n",
       "52  The assessed value of the built structure on t...  \n",
       "53  The assessed value of the land area of the parcel  \n",
       "54  The total property tax assessed for that asses...  \n",
       "55           The year of the property tax assessment   \n",
       "56  Property taxes for this parcel are past due as...  \n",
       "57  Year for which the unpaid propert taxes were due   "
      ]
     },
     "execution_count": 53,
     "metadata": {},
     "output_type": "execute_result"
    }
   ],
   "source": [
    "dd = pd.read_excel('zillow_data_dictionary.xlsx')\n",
    "dd"
   ]
  },
  {
   "cell_type": "markdown",
   "id": "28902634",
   "metadata": {},
   "source": [
    "### Takeaways: Columns of interest that may have predictive value\n",
    "\n",
    "- `buildingqualitytypeid` Quality \n",
    "- `fireplacecnt`\n",
    "- `garagecarcnt`\n",
    "- `poolcnt`\n",
    "- `rawcensustractandblock`\n",
    "- `censustractandblock`\n",
    "- `regionidzip`\n",
    "- `regionidneighborhood`\n",
    "- `storytypeid`\n",
    "\n",
    "\n",
    "import:\n",
    "- `regionidcounty`\n",
    "- \n",
    "- `"
   ]
  },
  {
   "cell_type": "markdown",
   "id": "230e0600",
   "metadata": {},
   "source": [
    "Use SQL query to get single unit (`propertylandusetypeid=261`) from May-Aug, 2017 filtering for non-zero values to have fewer nulls in the first data pull to deal with."
   ]
  },
  {
   "cell_type": "code",
   "execution_count": 63,
   "id": "cd0ba884",
   "metadata": {},
   "outputs": [],
   "source": [
    "def get_data_from_sql():\n",
    "    query = \"\"\"\n",
    "    SELECT bedroomcnt as bedrooms, \n",
    "       bathroomcnt as bathrooms,\n",
    "       calculatedfinishedsquarefeet as square_feet,\n",
    "       yearbuilt as year,\n",
    "       taxamount as taxes,\n",
    "       taxvaluedollarcnt as home_value,\n",
    "       fips as fips,\n",
    "       regionidzip as zip_code\n",
    "    FROM predictions_2017\n",
    "     JOIN properties_2017 USING(parcelid)\n",
    "     JOIN propertylandusetype USING(propertylandusetypeid)\n",
    "    WHERE (transactiondate >= '2017-01-01' AND transactiondate <= '2017-12-31') \n",
    "        AND propertylandusetypeid = '261'\n",
    "        AND bedroomcnt > 0\n",
    "        AND bathroomcnt > 0\n",
    "        AND calculatedfinishedsquarefeet > 0 \n",
    "        AND taxamount > 0\n",
    "        AND taxvaluedollarcnt > 0\n",
    "        AND fips > 0\n",
    "    ORDER BY fips;\n",
    "    \"\"\"\n",
    "    df = pd.read_sql(query, get_db_url('zillow'))\n",
    "    return df"
   ]
  },
  {
   "cell_type": "code",
   "execution_count": 64,
   "id": "0398b8bb",
   "metadata": {},
   "outputs": [
    {
     "data": {
      "text/html": [
       "<div>\n",
       "<style scoped>\n",
       "    .dataframe tbody tr th:only-of-type {\n",
       "        vertical-align: middle;\n",
       "    }\n",
       "\n",
       "    .dataframe tbody tr th {\n",
       "        vertical-align: top;\n",
       "    }\n",
       "\n",
       "    .dataframe thead th {\n",
       "        text-align: right;\n",
       "    }\n",
       "</style>\n",
       "<table border=\"1\" class=\"dataframe\">\n",
       "  <thead>\n",
       "    <tr style=\"text-align: right;\">\n",
       "      <th></th>\n",
       "      <th>bedrooms</th>\n",
       "      <th>bathrooms</th>\n",
       "      <th>square_feet</th>\n",
       "      <th>year</th>\n",
       "      <th>taxes</th>\n",
       "      <th>home_value</th>\n",
       "      <th>fips</th>\n",
       "      <th>zip_code</th>\n",
       "    </tr>\n",
       "  </thead>\n",
       "  <tbody>\n",
       "    <tr>\n",
       "      <th>0</th>\n",
       "      <td>4.0</td>\n",
       "      <td>2.0</td>\n",
       "      <td>1544.0</td>\n",
       "      <td>1974.0</td>\n",
       "      <td>5419.26</td>\n",
       "      <td>430000.0</td>\n",
       "      <td>6037.0</td>\n",
       "      <td>96361.0</td>\n",
       "    </tr>\n",
       "    <tr>\n",
       "      <th>1</th>\n",
       "      <td>4.0</td>\n",
       "      <td>2.0</td>\n",
       "      <td>1749.0</td>\n",
       "      <td>1951.0</td>\n",
       "      <td>1432.09</td>\n",
       "      <td>96296.0</td>\n",
       "      <td>6037.0</td>\n",
       "      <td>96517.0</td>\n",
       "    </tr>\n",
       "    <tr>\n",
       "      <th>2</th>\n",
       "      <td>3.0</td>\n",
       "      <td>2.0</td>\n",
       "      <td>1441.0</td>\n",
       "      <td>1964.0</td>\n",
       "      <td>6194.07</td>\n",
       "      <td>469000.0</td>\n",
       "      <td>6037.0</td>\n",
       "      <td>96229.0</td>\n",
       "    </tr>\n",
       "    <tr>\n",
       "      <th>3</th>\n",
       "      <td>4.0</td>\n",
       "      <td>2.0</td>\n",
       "      <td>1196.0</td>\n",
       "      <td>1954.0</td>\n",
       "      <td>2140.24</td>\n",
       "      <td>113404.0</td>\n",
       "      <td>6037.0</td>\n",
       "      <td>97328.0</td>\n",
       "    </tr>\n",
       "    <tr>\n",
       "      <th>4</th>\n",
       "      <td>4.0</td>\n",
       "      <td>3.0</td>\n",
       "      <td>2117.0</td>\n",
       "      <td>2005.0</td>\n",
       "      <td>5635.97</td>\n",
       "      <td>253704.0</td>\n",
       "      <td>6037.0</td>\n",
       "      <td>97329.0</td>\n",
       "    </tr>\n",
       "  </tbody>\n",
       "</table>\n",
       "</div>"
      ],
      "text/plain": [
       "   bedrooms  bathrooms  square_feet    year    taxes  home_value    fips  \\\n",
       "0       4.0        2.0       1544.0  1974.0  5419.26    430000.0  6037.0   \n",
       "1       4.0        2.0       1749.0  1951.0  1432.09     96296.0  6037.0   \n",
       "2       3.0        2.0       1441.0  1964.0  6194.07    469000.0  6037.0   \n",
       "3       4.0        2.0       1196.0  1954.0  2140.24    113404.0  6037.0   \n",
       "4       4.0        3.0       2117.0  2005.0  5635.97    253704.0  6037.0   \n",
       "\n",
       "   zip_code  \n",
       "0   96361.0  \n",
       "1   96517.0  \n",
       "2   96229.0  \n",
       "3   97328.0  \n",
       "4   97329.0  "
      ]
     },
     "execution_count": 64,
     "metadata": {},
     "output_type": "execute_result"
    }
   ],
   "source": [
    "zillow = get_data_from_sql()\n",
    "zillow.head()"
   ]
  },
  {
   "cell_type": "code",
   "execution_count": 65,
   "id": "de01544b",
   "metadata": {},
   "outputs": [
    {
     "data": {
      "text/plain": [
       "(52275, 8)"
      ]
     },
     "execution_count": 65,
     "metadata": {},
     "output_type": "execute_result"
    }
   ],
   "source": [
    "shape1 = zillow.shape\n",
    "shape1"
   ]
  },
  {
   "cell_type": "markdown",
   "id": "e5142faf",
   "metadata": {},
   "source": [
    "Count nulls by column"
   ]
  },
  {
   "cell_type": "code",
   "execution_count": 7,
   "id": "8aa3a198",
   "metadata": {},
   "outputs": [
    {
     "name": "stdout",
     "output_type": "stream",
     "text": [
      "<class 'pandas.core.frame.DataFrame'>\n",
      "RangeIndex: 55614 entries, 0 to 55613\n",
      "Data columns (total 8 columns):\n",
      " #   Column       Non-Null Count  Dtype  \n",
      "---  ------       --------------  -----  \n",
      " 0   bedrooms     55614 non-null  float64\n",
      " 1   bathrooms    55614 non-null  float64\n",
      " 2   square_feet  55614 non-null  float64\n",
      " 3   year         55587 non-null  float64\n",
      " 4   taxes        55614 non-null  float64\n",
      " 5   home_value   55614 non-null  float64\n",
      " 6   fips         55614 non-null  float64\n",
      " 7   zip_code     55553 non-null  float64\n",
      "dtypes: float64(8)\n",
      "memory usage: 3.4 MB\n"
     ]
    }
   ],
   "source": [
    "zillow.info(null_counts=True)\n"
   ]
  },
  {
   "cell_type": "code",
   "execution_count": 9,
   "id": "6aa5ced0",
   "metadata": {},
   "outputs": [
    {
     "data": {
      "text/plain": [
       "bedrooms        0\n",
       "bathrooms       0\n",
       "square_feet     0\n",
       "year           27\n",
       "taxes           0\n",
       "home_value      0\n",
       "fips            0\n",
       "zip_code       61\n",
       "dtype: int64"
      ]
     },
     "execution_count": 9,
     "metadata": {},
     "output_type": "execute_result"
    }
   ],
   "source": [
    "# get total of null values for each row\n",
    "null1 = zillow.isnull().sum()\n",
    "null1"
   ]
  },
  {
   "cell_type": "markdown",
   "id": "c685af47",
   "metadata": {},
   "source": [
    "Lots of missing neighborhood data... Drop that column before filtering NAs. (Actually removed this field from the SQL query - now not imported and not dropped)\n",
    "\n",
    "- [ ] Drop city as well\n",
    "- [ ] Figure out how to get that information from `fips`  "
   ]
  },
  {
   "cell_type": "markdown",
   "id": "7b008706",
   "metadata": {},
   "source": [
    "GO back to mysql workbench and see how many properties have the `single residential inferred` code 279\n",
    "\n",
    "- 55614 for single family\n",
    "\n",
    "- 0 records for inferred single family, so no need to include it in query"
   ]
  },
  {
   "cell_type": "markdown",
   "id": "2c89b17a",
   "metadata": {},
   "source": [
    "---"
   ]
  },
  {
   "cell_type": "markdown",
   "id": "5e1002d5",
   "metadata": {},
   "source": [
    "### Vizualize distribution and outliers\n",
    "\n",
    "- Eliminating outliers may also reduce the null value counts"
   ]
  },
  {
   "cell_type": "code",
   "execution_count": 10,
   "id": "6b782e7f",
   "metadata": {},
   "outputs": [
    {
     "data": {
      "image/png": "[encoded data removed]",
      "text/plain": [
       "<Figure size 1152x216 with 6 Axes>"
      ]
     },
     "metadata": {
      "needs_background": "light"
     },
     "output_type": "display_data"
    }
   ],
   "source": [
    "plt.figure(figsize=(16, 3))\n",
    "\n",
    "# List of columns\n",
    "cols = [col for col in zillow.columns if col not in ['fips', 'year_built', 'zip_code', 'propertylandusedesc']]\n",
    "\n",
    "for i, col in enumerate(cols):\n",
    "\n",
    "    # i starts at 0, but plot nos should start at 1\n",
    "    plot_number = i + 1 \n",
    "\n",
    "    # Create subplot.\n",
    "    plt.subplot(1, len(cols), plot_number)\n",
    "\n",
    "    # Title with column name.\n",
    "    plt.title(col)\n",
    "\n",
    "    # Display histogram for column.\n",
    "    zillow[col].hist(bins=5)\n",
    "\n",
    "    # Hide gridlines.\n",
    "    plt.grid(False)\n",
    "    \n",
    "    # turn off scientific notation\n",
    "    #plt.ticklabel_format(useOffset=False)\n",
    "    \n",
    "plt.show()"
   ]
  },
  {
   "cell_type": "code",
   "execution_count": 11,
   "id": "02204a9a",
   "metadata": {},
   "outputs": [
    {
     "data": {
      "image/png": "[encoded data removed]",
      "text/plain": [
       "<Figure size 576x288 with 1 Axes>"
      ]
     },
     "metadata": {
      "needs_background": "light"
     },
     "output_type": "display_data"
    }
   ],
   "source": [
    "plt.figure(figsize=(8,4))\n",
    "\n",
    "plt.ticklabel_format(useOffset=False, style='plain')\n",
    "sns.boxplot(data=zillow.drop(columns=['fips']))\n",
    "\n",
    "plt.show()"
   ]
  },
  {
   "cell_type": "markdown",
   "id": "a8431d17",
   "metadata": {},
   "source": [
    "Lots of outliers - especially in value"
   ]
  },
  {
   "cell_type": "code",
   "execution_count": 12,
   "id": "bc5175d4",
   "metadata": {},
   "outputs": [
    {
     "data": {
      "text/html": [
       "<div>\n",
       "<style scoped>\n",
       "    .dataframe tbody tr th:only-of-type {\n",
       "        vertical-align: middle;\n",
       "    }\n",
       "\n",
       "    .dataframe tbody tr th {\n",
       "        vertical-align: top;\n",
       "    }\n",
       "\n",
       "    .dataframe thead th {\n",
       "        text-align: right;\n",
       "    }\n",
       "</style>\n",
       "<table border=\"1\" class=\"dataframe\">\n",
       "  <thead>\n",
       "    <tr style=\"text-align: right;\">\n",
       "      <th></th>\n",
       "      <th>bedrooms</th>\n",
       "      <th>bathrooms</th>\n",
       "      <th>square_feet</th>\n",
       "      <th>year</th>\n",
       "      <th>taxes</th>\n",
       "      <th>home_value</th>\n",
       "      <th>fips</th>\n",
       "      <th>zip_code</th>\n",
       "    </tr>\n",
       "  </thead>\n",
       "  <tbody>\n",
       "    <tr>\n",
       "      <th>count</th>\n",
       "      <td>55614</td>\n",
       "      <td>55614</td>\n",
       "      <td>55614</td>\n",
       "      <td>55587</td>\n",
       "      <td>55614</td>\n",
       "      <td>55614</td>\n",
       "      <td>55614</td>\n",
       "      <td>55553</td>\n",
       "    </tr>\n",
       "    <tr>\n",
       "      <th>mean</th>\n",
       "      <td>3.31136</td>\n",
       "      <td>2.25512</td>\n",
       "      <td>1870.51</td>\n",
       "      <td>1961.23</td>\n",
       "      <td>5566.61</td>\n",
       "      <td>456862</td>\n",
       "      <td>6048.79</td>\n",
       "      <td>96599.5</td>\n",
       "    </tr>\n",
       "    <tr>\n",
       "      <th>std</th>\n",
       "      <td>0.924014</td>\n",
       "      <td>0.993283</td>\n",
       "      <td>964.384</td>\n",
       "      <td>21.9596</td>\n",
       "      <td>6826.01</td>\n",
       "      <td>593637</td>\n",
       "      <td>21.1611</td>\n",
       "      <td>4473.18</td>\n",
       "    </tr>\n",
       "    <tr>\n",
       "      <th>min</th>\n",
       "      <td>1</td>\n",
       "      <td>1</td>\n",
       "      <td>320</td>\n",
       "      <td>1862</td>\n",
       "      <td>20.24</td>\n",
       "      <td>9762</td>\n",
       "      <td>6037</td>\n",
       "      <td>95982</td>\n",
       "    </tr>\n",
       "    <tr>\n",
       "      <th>25%</th>\n",
       "      <td>3</td>\n",
       "      <td>2</td>\n",
       "      <td>1262</td>\n",
       "      <td>1949</td>\n",
       "      <td>2538.87</td>\n",
       "      <td>188729</td>\n",
       "      <td>6037</td>\n",
       "      <td>96197</td>\n",
       "    </tr>\n",
       "    <tr>\n",
       "      <th>50%</th>\n",
       "      <td>3</td>\n",
       "      <td>2</td>\n",
       "      <td>1632</td>\n",
       "      <td>1958</td>\n",
       "      <td>4138.68</td>\n",
       "      <td>330476</td>\n",
       "      <td>6037</td>\n",
       "      <td>96389</td>\n",
       "    </tr>\n",
       "    <tr>\n",
       "      <th>75%</th>\n",
       "      <td>4</td>\n",
       "      <td>3</td>\n",
       "      <td>2218</td>\n",
       "      <td>1976</td>\n",
       "      <td>6416.11</td>\n",
       "      <td>534747</td>\n",
       "      <td>6059</td>\n",
       "      <td>96987</td>\n",
       "    </tr>\n",
       "    <tr>\n",
       "      <th>max</th>\n",
       "      <td>25</td>\n",
       "      <td>20</td>\n",
       "      <td>26345</td>\n",
       "      <td>2016</td>\n",
       "      <td>342940</td>\n",
       "      <td>3.01668e+07</td>\n",
       "      <td>6111</td>\n",
       "      <td>399675</td>\n",
       "    </tr>\n",
       "  </tbody>\n",
       "</table>\n",
       "</div>"
      ],
      "text/plain": [
       "       bedrooms bathrooms square_feet     year    taxes   home_value     fips  \\\n",
       "count     55614     55614       55614    55587    55614        55614    55614   \n",
       "mean    3.31136   2.25512     1870.51  1961.23  5566.61       456862  6048.79   \n",
       "std    0.924014  0.993283     964.384  21.9596  6826.01       593637  21.1611   \n",
       "min           1         1         320     1862    20.24         9762     6037   \n",
       "25%           3         2        1262     1949  2538.87       188729     6037   \n",
       "50%           3         2        1632     1958  4138.68       330476     6037   \n",
       "75%           4         3        2218     1976  6416.11       534747     6059   \n",
       "max          25        20       26345     2016   342940  3.01668e+07     6111   \n",
       "\n",
       "      zip_code  \n",
       "count    55553  \n",
       "mean   96599.5  \n",
       "std    4473.18  \n",
       "min      95982  \n",
       "25%      96197  \n",
       "50%      96389  \n",
       "75%      96987  \n",
       "max     399675  "
      ]
     },
     "execution_count": 12,
     "metadata": {},
     "output_type": "execute_result"
    }
   ],
   "source": [
    "zillow.describe().apply(lambda s: s.apply(lambda x: format(x, 'g')))\n"
   ]
  },
  {
   "cell_type": "markdown",
   "id": "afa3e70d",
   "metadata": {},
   "source": [
    "### Remove outliers\n",
    "\n",
    "Make remove outliers function"
   ]
  },
  {
   "cell_type": "code",
   "execution_count": 13,
   "id": "23898e24",
   "metadata": {},
   "outputs": [],
   "source": [
    "def remove_outliers(df, k, col_list):\n",
    "    ''' remove outliers from a list of columns in a dataframe \n",
    "        and return that dataframe\n",
    "    '''\n",
    "    \n",
    "    for col in col_list:\n",
    "\n",
    "        q1, q3 = df[col].quantile([.25, .75])  # get quartiles\n",
    "        \n",
    "        iqr = q3 - q1   # calculate interquartile range\n",
    "        \n",
    "        upper_bound = q3 + k * iqr   # get upper bound\n",
    "        lower_bound = q1 - k * iqr   # get lower bound\n",
    "\n",
    "        # return dataframe without outliers\n",
    "        \n",
    "        df = df[(df[col] > lower_bound) & (df[col] < upper_bound)]\n",
    "        \n",
    "    return df"
   ]
  },
  {
   "cell_type": "code",
   "execution_count": 14,
   "id": "ad0ad1d2",
   "metadata": {},
   "outputs": [
    {
     "data": {
      "text/plain": [
       "bedrooms       float64\n",
       "bathrooms      float64\n",
       "square_feet    float64\n",
       "year           float64\n",
       "taxes          float64\n",
       "home_value     float64\n",
       "fips           float64\n",
       "zip_code       float64\n",
       "dtype: object"
      ]
     },
     "execution_count": 14,
     "metadata": {},
     "output_type": "execute_result"
    }
   ],
   "source": [
    "zillow.dtypes"
   ]
  },
  {
   "cell_type": "code",
   "execution_count": 15,
   "id": "6b421ca2",
   "metadata": {},
   "outputs": [
    {
     "data": {
      "text/html": [
       "<div>\n",
       "<style scoped>\n",
       "    .dataframe tbody tr th:only-of-type {\n",
       "        vertical-align: middle;\n",
       "    }\n",
       "\n",
       "    .dataframe tbody tr th {\n",
       "        vertical-align: top;\n",
       "    }\n",
       "\n",
       "    .dataframe thead th {\n",
       "        text-align: right;\n",
       "    }\n",
       "</style>\n",
       "<table border=\"1\" class=\"dataframe\">\n",
       "  <thead>\n",
       "    <tr style=\"text-align: right;\">\n",
       "      <th></th>\n",
       "      <th>bedrooms</th>\n",
       "      <th>bathrooms</th>\n",
       "      <th>square_feet</th>\n",
       "      <th>year</th>\n",
       "      <th>taxes</th>\n",
       "      <th>home_value</th>\n",
       "      <th>fips</th>\n",
       "      <th>zip_code</th>\n",
       "    </tr>\n",
       "  </thead>\n",
       "  <tbody>\n",
       "    <tr>\n",
       "      <th>0</th>\n",
       "      <td>5.0</td>\n",
       "      <td>3.0</td>\n",
       "      <td>2996.0</td>\n",
       "      <td>2004.0</td>\n",
       "      <td>3238.30</td>\n",
       "      <td>191451.0</td>\n",
       "      <td>6037.0</td>\n",
       "      <td>97319.0</td>\n",
       "    </tr>\n",
       "    <tr>\n",
       "      <th>2</th>\n",
       "      <td>3.0</td>\n",
       "      <td>2.0</td>\n",
       "      <td>2016.0</td>\n",
       "      <td>1963.0</td>\n",
       "      <td>6965.26</td>\n",
       "      <td>554115.0</td>\n",
       "      <td>6037.0</td>\n",
       "      <td>96370.0</td>\n",
       "    </tr>\n",
       "    <tr>\n",
       "      <th>4</th>\n",
       "      <td>5.0</td>\n",
       "      <td>3.0</td>\n",
       "      <td>2736.0</td>\n",
       "      <td>2004.0</td>\n",
       "      <td>5301.10</td>\n",
       "      <td>252152.0</td>\n",
       "      <td>6037.0</td>\n",
       "      <td>97328.0</td>\n",
       "    </tr>\n",
       "    <tr>\n",
       "      <th>5</th>\n",
       "      <td>3.0</td>\n",
       "      <td>2.0</td>\n",
       "      <td>1514.0</td>\n",
       "      <td>2005.0</td>\n",
       "      <td>7040.85</td>\n",
       "      <td>582000.0</td>\n",
       "      <td>6037.0</td>\n",
       "      <td>96013.0</td>\n",
       "    </tr>\n",
       "    <tr>\n",
       "      <th>7</th>\n",
       "      <td>4.0</td>\n",
       "      <td>3.0</td>\n",
       "      <td>2792.0</td>\n",
       "      <td>2005.0</td>\n",
       "      <td>10036.52</td>\n",
       "      <td>824238.0</td>\n",
       "      <td>6037.0</td>\n",
       "      <td>96349.0</td>\n",
       "    </tr>\n",
       "  </tbody>\n",
       "</table>\n",
       "</div>"
      ],
      "text/plain": [
       "   bedrooms  bathrooms  square_feet    year     taxes  home_value    fips  \\\n",
       "0       5.0        3.0       2996.0  2004.0   3238.30    191451.0  6037.0   \n",
       "2       3.0        2.0       2016.0  1963.0   6965.26    554115.0  6037.0   \n",
       "4       5.0        3.0       2736.0  2004.0   5301.10    252152.0  6037.0   \n",
       "5       3.0        2.0       1514.0  2005.0   7040.85    582000.0  6037.0   \n",
       "7       4.0        3.0       2792.0  2005.0  10036.52    824238.0  6037.0   \n",
       "\n",
       "   zip_code  \n",
       "0   97319.0  \n",
       "2   96370.0  \n",
       "4   97328.0  \n",
       "5   96013.0  \n",
       "7   96349.0  "
      ]
     },
     "execution_count": 15,
     "metadata": {},
     "output_type": "execute_result"
    }
   ],
   "source": [
    "zillow = remove_outliers(zillow, 1.5, ['bedrooms', 'bathrooms', 'square_feet', 'taxes', 'home_value'])\n",
    "zillow.head()"
   ]
  },
  {
   "cell_type": "code",
   "execution_count": 16,
   "id": "496bb9f2",
   "metadata": {},
   "outputs": [
    {
     "name": "stdout",
     "output_type": "stream",
     "text": [
      "(55614, 8)\n",
      "(48328, 8)\n"
     ]
    }
   ],
   "source": [
    "shape2 = zillow.shape\n",
    "print(shape1)\n",
    "print(shape2)"
   ]
  },
  {
   "cell_type": "code",
   "execution_count": 17,
   "id": "146aa4d2",
   "metadata": {},
   "outputs": [],
   "source": [
    "removed1 = shape1[0]-shape2[0]"
   ]
  },
  {
   "cell_type": "code",
   "execution_count": 18,
   "id": "bb6caa03",
   "metadata": {},
   "outputs": [
    {
     "name": "stdout",
     "output_type": "stream",
     "text": [
      "Original records: 55614\n",
      "Records Removed: 7286\n",
      "Records remaining: 48328\n"
     ]
    }
   ],
   "source": [
    "print(f'Original records: {shape1[0]}')\n",
    "print(f'Records Removed: {removed1}')\n",
    "print(f'Records remaining: {shape2[0]}')"
   ]
  },
  {
   "cell_type": "code",
   "execution_count": 19,
   "id": "40d53fdf",
   "metadata": {},
   "outputs": [
    {
     "name": "stdout",
     "output_type": "stream",
     "text": [
      "bedrooms        0\n",
      "bathrooms       0\n",
      "square_feet     0\n",
      "year           27\n",
      "taxes           0\n",
      "home_value      0\n",
      "fips            0\n",
      "zip_code       61\n",
      "dtype: int64\n",
      "bedrooms        0\n",
      "bathrooms       0\n",
      "square_feet     0\n",
      "year           20\n",
      "taxes           0\n",
      "home_value      0\n",
      "fips            0\n",
      "zip_code       32\n",
      "dtype: int64\n"
     ]
    }
   ],
   "source": [
    "# get total of null values for each row\n",
    "null2 = zillow.isnull().sum()\n",
    "print(null1)\n",
    "print(null2)"
   ]
  },
  {
   "cell_type": "markdown",
   "id": "373b7a91",
   "metadata": {},
   "source": [
    "Reasonable number of null values copared to total records, go ahead and drop NAs"
   ]
  },
  {
   "cell_type": "code",
   "execution_count": 20,
   "id": "dbce735a",
   "metadata": {},
   "outputs": [],
   "source": [
    "# Drop NAs\n",
    "zillow = zillow.dropna()"
   ]
  },
  {
   "cell_type": "code",
   "execution_count": 21,
   "id": "a92bb668",
   "metadata": {},
   "outputs": [
    {
     "data": {
      "text/plain": [
       "(48276, 8)"
      ]
     },
     "execution_count": 21,
     "metadata": {},
     "output_type": "execute_result"
    }
   ],
   "source": [
    "shape3=zillow.shape\n",
    "shape3"
   ]
  },
  {
   "cell_type": "code",
   "execution_count": 22,
   "id": "ed4655d1",
   "metadata": {},
   "outputs": [],
   "source": [
    "removed2=shape2[0]-shape3[0]"
   ]
  },
  {
   "cell_type": "code",
   "execution_count": 23,
   "id": "b33bb7e9",
   "metadata": {},
   "outputs": [
    {
     "name": "stdout",
     "output_type": "stream",
     "text": [
      "Original records: 48328\n",
      "Records Removed: 52\n",
      "Records remaining: 48276\n"
     ]
    }
   ],
   "source": [
    "print(f'Original records: {shape2[0]}')\n",
    "print(f'Records Removed: {removed2}')\n",
    "print(f'Records remaining: {shape3[0]}')"
   ]
  },
  {
   "cell_type": "markdown",
   "id": "e82cd527",
   "metadata": {},
   "source": [
    "---"
   ]
  },
  {
   "cell_type": "markdown",
   "id": "676866b0",
   "metadata": {},
   "source": [
    "### Vizualize distributions again minus outliers"
   ]
  },
  {
   "cell_type": "code",
   "execution_count": 24,
   "id": "d205c8e7",
   "metadata": {},
   "outputs": [
    {
     "data": {
      "image/png": "[encoded data removed]",
      "text/plain": [
       "<Figure size 1152x216 with 6 Axes>"
      ]
     },
     "metadata": {
      "needs_background": "light"
     },
     "output_type": "display_data"
    }
   ],
   "source": [
    "plt.figure(figsize=(16, 3))\n",
    "\n",
    "# List of columns\n",
    "cols = [col for col in zillow.columns if col not in ['fips', 'zip_code', 'propertylandusedesc']]\n",
    "\n",
    "for i, col in enumerate(cols):\n",
    "\n",
    "    # i starts at 0, but plot nos should start at 1\n",
    "    plot_number = i + 1 \n",
    "\n",
    "    # Create subplot.\n",
    "    plt.subplot(1, len(cols), plot_number)\n",
    "\n",
    "    # Title with column name.\n",
    "    plt.title(col)\n",
    "\n",
    "    # Display histogram for column.\n",
    "    zillow[col].hist(bins=5)\n",
    "\n",
    "    # Hide gridlines.\n",
    "    plt.grid(False)\n",
    "    \n",
    "    # turn off scientific notation\n",
    "    #plt.ticklabel_format(useOffset=False)\n",
    "    \n",
    "plt.show()"
   ]
  },
  {
   "cell_type": "code",
   "execution_count": 25,
   "id": "1fc29671",
   "metadata": {},
   "outputs": [
    {
     "data": {
      "image/png": "[encoded data removed]",
      "text/plain": [
       "<Figure size 576x288 with 1 Axes>"
      ]
     },
     "metadata": {
      "needs_background": "light"
     },
     "output_type": "display_data"
    }
   ],
   "source": [
    "plt.figure(figsize=(8,4))\n",
    "\n",
    "plt.ticklabel_format(useOffset=False, style='plain')\n",
    "sns.boxplot(data=zillow.drop(columns=['fips', 'zip_code']))\n",
    "\n",
    "plt.show()"
   ]
  },
  {
   "cell_type": "code",
   "execution_count": 26,
   "id": "ba5df612",
   "metadata": {},
   "outputs": [
    {
     "data": {
      "image/png": "[encoded data removed]",
      "text/plain": [
       "<Figure size 1152x1440 with 6 Axes>"
      ]
     },
     "metadata": {
      "needs_background": "light"
     },
     "output_type": "display_data"
    }
   ],
   "source": [
    "# List of columns\n",
    "cols = [col for col in zillow.columns if col not in ['fips','zip_code', 'propertylandusedesc']]\n",
    "plt.figure(figsize=(16, 20))\n",
    "for i, col in enumerate(cols):\n",
    "\n",
    "    # i starts at 0, but plot nos should start at 1\n",
    "    plot_number = i + 1 \n",
    "\n",
    "    # Create subplot.\n",
    "    plt.subplot(1, len(cols), plot_number)\n",
    "\n",
    "    # Title with column name.\n",
    "    plt.title(col)\n",
    "\n",
    "    # Display boxplot for column.\n",
    "    sns.boxplot(data=zillow[col])\n",
    "\n",
    "    # Hide gridlines.\n",
    "    plt.grid(False)\n",
    "\n",
    "plt.show()"
   ]
  },
  {
   "cell_type": "code",
   "execution_count": 27,
   "id": "6e7ed4ff",
   "metadata": {},
   "outputs": [
    {
     "data": {
      "text/plain": [
       "bedrooms       float64\n",
       "bathrooms      float64\n",
       "square_feet    float64\n",
       "year           float64\n",
       "taxes          float64\n",
       "home_value     float64\n",
       "fips           float64\n",
       "zip_code       float64\n",
       "dtype: object"
      ]
     },
     "execution_count": 27,
     "metadata": {},
     "output_type": "execute_result"
    }
   ],
   "source": [
    "zillow.dtypes"
   ]
  },
  {
   "cell_type": "code",
   "execution_count": 28,
   "id": "8adddb7c",
   "metadata": {},
   "outputs": [
    {
     "data": {
      "image/png": "[encoded data removed]",
      "text/plain": [
       "<Figure size 576x216 with 5 Axes>"
      ]
     },
     "metadata": {
      "needs_background": "light"
     },
     "output_type": "display_data"
    }
   ],
   "source": [
    "# List of columns\n",
    "cols = ['bedrooms', 'bathrooms', 'square_feet', 'home_value', 'taxes']\n",
    "\n",
    "plt.figure(figsize=(8, 3))\n",
    "\n",
    "for i, col in enumerate(cols):\n",
    "\n",
    "    # i starts at 0, but plot should start at 1\n",
    "    plot_number = i + 1 \n",
    "\n",
    "    # Create subplot.\n",
    "    plt.subplot(1, len(cols), plot_number)\n",
    "\n",
    "    # Title with column name.\n",
    "    plt.title(col)\n",
    "\n",
    "    # Display boxplot for column.\n",
    "    sns.boxplot(data=zillow[[col]])\n",
    "\n",
    "    # Hide gridlines.\n",
    "    plt.grid(False)\n",
    "\n",
    "    # sets proper spacing between plots\n",
    "    plt.tight_layout()\n",
    "    \n",
    "plt.show()"
   ]
  },
  {
   "cell_type": "code",
   "execution_count": 32,
   "id": "48779c2d",
   "metadata": {},
   "outputs": [],
   "source": [
    "# function to clean up my zillow df\n",
    "def clean_data(df):\n",
    "    '''\n",
    "    This funciton takes in the zillow df and drops observations with Null values\n",
    "    and handles data types returning a df with a basic clean.\n",
    "    '''\n",
    "    df = df.dropna()\n",
    "    df[\"fips\"] = df[\"fips\"].astype(int)\n",
    "    df[\"zip_code\"] = df[\"zip_code\"].astype(\"category\")\n",
    "    df[\"square_feet\"] = df[\"square_feet\"].astype(\"int\")\n",
    "    return df"
   ]
  },
  {
   "cell_type": "code",
   "execution_count": 33,
   "id": "cb8266ca",
   "metadata": {},
   "outputs": [
    {
     "data": {
      "text/plain": [
       "(48276, 8)"
      ]
     },
     "execution_count": 33,
     "metadata": {},
     "output_type": "execute_result"
    }
   ],
   "source": [
    "zillow.shape"
   ]
  },
  {
   "cell_type": "code",
   "execution_count": 34,
   "id": "f6db4a06",
   "metadata": {},
   "outputs": [],
   "source": [
    "zillow = clean_data(zillow)"
   ]
  },
  {
   "cell_type": "code",
   "execution_count": 35,
   "id": "9140879f",
   "metadata": {},
   "outputs": [
    {
     "data": {
      "text/plain": [
       "(48276, 8)"
      ]
     },
     "execution_count": 35,
     "metadata": {},
     "output_type": "execute_result"
    }
   ],
   "source": [
    "zillow.shape"
   ]
  },
  {
   "cell_type": "markdown",
   "id": "6fb345ad",
   "metadata": {},
   "source": [
    "Insert code here to vizualize NA's by column... lsot 2/3 of our records with current filtering. May be a way to impute or preserve or eliminate a problem column."
   ]
  },
  {
   "cell_type": "code",
   "execution_count": 36,
   "id": "661e9cc1",
   "metadata": {},
   "outputs": [],
   "source": [
    "#Vizualize NA by column"
   ]
  },
  {
   "cell_type": "code",
   "execution_count": 37,
   "id": "8a45fdbe",
   "metadata": {},
   "outputs": [
    {
     "name": "stdout",
     "output_type": "stream",
     "text": [
      "(48276, 8)\n"
     ]
    },
    {
     "data": {
      "text/html": [
       "<div>\n",
       "<style scoped>\n",
       "    .dataframe tbody tr th:only-of-type {\n",
       "        vertical-align: middle;\n",
       "    }\n",
       "\n",
       "    .dataframe tbody tr th {\n",
       "        vertical-align: top;\n",
       "    }\n",
       "\n",
       "    .dataframe thead th {\n",
       "        text-align: right;\n",
       "    }\n",
       "</style>\n",
       "<table border=\"1\" class=\"dataframe\">\n",
       "  <thead>\n",
       "    <tr style=\"text-align: right;\">\n",
       "      <th></th>\n",
       "      <th>bedrooms</th>\n",
       "      <th>bathrooms</th>\n",
       "      <th>square_feet</th>\n",
       "      <th>year</th>\n",
       "      <th>taxes</th>\n",
       "      <th>home_value</th>\n",
       "      <th>fips</th>\n",
       "      <th>zip_code</th>\n",
       "    </tr>\n",
       "  </thead>\n",
       "  <tbody>\n",
       "    <tr>\n",
       "      <th>0</th>\n",
       "      <td>5.0</td>\n",
       "      <td>3.0</td>\n",
       "      <td>2996</td>\n",
       "      <td>2004.0</td>\n",
       "      <td>3238.30</td>\n",
       "      <td>191451.0</td>\n",
       "      <td>6037</td>\n",
       "      <td>97319.0</td>\n",
       "    </tr>\n",
       "    <tr>\n",
       "      <th>2</th>\n",
       "      <td>3.0</td>\n",
       "      <td>2.0</td>\n",
       "      <td>2016</td>\n",
       "      <td>1963.0</td>\n",
       "      <td>6965.26</td>\n",
       "      <td>554115.0</td>\n",
       "      <td>6037</td>\n",
       "      <td>96370.0</td>\n",
       "    </tr>\n",
       "    <tr>\n",
       "      <th>4</th>\n",
       "      <td>5.0</td>\n",
       "      <td>3.0</td>\n",
       "      <td>2736</td>\n",
       "      <td>2004.0</td>\n",
       "      <td>5301.10</td>\n",
       "      <td>252152.0</td>\n",
       "      <td>6037</td>\n",
       "      <td>97328.0</td>\n",
       "    </tr>\n",
       "    <tr>\n",
       "      <th>5</th>\n",
       "      <td>3.0</td>\n",
       "      <td>2.0</td>\n",
       "      <td>1514</td>\n",
       "      <td>2005.0</td>\n",
       "      <td>7040.85</td>\n",
       "      <td>582000.0</td>\n",
       "      <td>6037</td>\n",
       "      <td>96013.0</td>\n",
       "    </tr>\n",
       "    <tr>\n",
       "      <th>7</th>\n",
       "      <td>4.0</td>\n",
       "      <td>3.0</td>\n",
       "      <td>2792</td>\n",
       "      <td>2005.0</td>\n",
       "      <td>10036.52</td>\n",
       "      <td>824238.0</td>\n",
       "      <td>6037</td>\n",
       "      <td>96349.0</td>\n",
       "    </tr>\n",
       "  </tbody>\n",
       "</table>\n",
       "</div>"
      ],
      "text/plain": [
       "   bedrooms  bathrooms  square_feet    year     taxes  home_value  fips  \\\n",
       "0       5.0        3.0         2996  2004.0   3238.30    191451.0  6037   \n",
       "2       3.0        2.0         2016  1963.0   6965.26    554115.0  6037   \n",
       "4       5.0        3.0         2736  2004.0   5301.10    252152.0  6037   \n",
       "5       3.0        2.0         1514  2005.0   7040.85    582000.0  6037   \n",
       "7       4.0        3.0         2792  2005.0  10036.52    824238.0  6037   \n",
       "\n",
       "  zip_code  \n",
       "0  97319.0  \n",
       "2  96370.0  \n",
       "4  97328.0  \n",
       "5  96013.0  \n",
       "7  96349.0  "
      ]
     },
     "execution_count": 37,
     "metadata": {},
     "output_type": "execute_result"
    }
   ],
   "source": [
    "zillow = clean_data(zillow)\n",
    "print(zillow.shape)\n",
    "zillow.head()"
   ]
  },
  {
   "cell_type": "code",
   "execution_count": 38,
   "id": "32119960",
   "metadata": {},
   "outputs": [
    {
     "data": {
      "text/html": [
       "<div>\n",
       "<style scoped>\n",
       "    .dataframe tbody tr th:only-of-type {\n",
       "        vertical-align: middle;\n",
       "    }\n",
       "\n",
       "    .dataframe tbody tr th {\n",
       "        vertical-align: top;\n",
       "    }\n",
       "\n",
       "    .dataframe thead th {\n",
       "        text-align: right;\n",
       "    }\n",
       "</style>\n",
       "<table border=\"1\" class=\"dataframe\">\n",
       "  <thead>\n",
       "    <tr style=\"text-align: right;\">\n",
       "      <th></th>\n",
       "      <th>count</th>\n",
       "      <th>mean</th>\n",
       "      <th>std</th>\n",
       "      <th>min</th>\n",
       "      <th>25%</th>\n",
       "      <th>50%</th>\n",
       "      <th>75%</th>\n",
       "      <th>max</th>\n",
       "    </tr>\n",
       "  </thead>\n",
       "  <tbody>\n",
       "    <tr>\n",
       "      <th>bedrooms</th>\n",
       "      <td>48276.0</td>\n",
       "      <td>3.216070</td>\n",
       "      <td>0.784326</td>\n",
       "      <td>2.00</td>\n",
       "      <td>3.000</td>\n",
       "      <td>3.000</td>\n",
       "      <td>4.0000</td>\n",
       "      <td>5.00</td>\n",
       "    </tr>\n",
       "    <tr>\n",
       "      <th>bathrooms</th>\n",
       "      <td>48276.0</td>\n",
       "      <td>2.058994</td>\n",
       "      <td>0.707377</td>\n",
       "      <td>1.00</td>\n",
       "      <td>2.000</td>\n",
       "      <td>2.000</td>\n",
       "      <td>2.5000</td>\n",
       "      <td>4.00</td>\n",
       "    </tr>\n",
       "    <tr>\n",
       "      <th>square_feet</th>\n",
       "      <td>48276.0</td>\n",
       "      <td>1657.320283</td>\n",
       "      <td>564.625893</td>\n",
       "      <td>440.00</td>\n",
       "      <td>1233.000</td>\n",
       "      <td>1552.000</td>\n",
       "      <td>1995.0000</td>\n",
       "      <td>3424.00</td>\n",
       "    </tr>\n",
       "    <tr>\n",
       "      <th>year</th>\n",
       "      <td>48276.0</td>\n",
       "      <td>1959.565913</td>\n",
       "      <td>20.354878</td>\n",
       "      <td>1862.00</td>\n",
       "      <td>1949.000</td>\n",
       "      <td>1957.000</td>\n",
       "      <td>1972.0000</td>\n",
       "      <td>2015.00</td>\n",
       "    </tr>\n",
       "    <tr>\n",
       "      <th>taxes</th>\n",
       "      <td>48276.0</td>\n",
       "      <td>4068.313504</td>\n",
       "      <td>2250.980020</td>\n",
       "      <td>20.24</td>\n",
       "      <td>2356.075</td>\n",
       "      <td>3754.355</td>\n",
       "      <td>5490.0575</td>\n",
       "      <td>11067.72</td>\n",
       "    </tr>\n",
       "    <tr>\n",
       "      <th>home_value</th>\n",
       "      <td>48276.0</td>\n",
       "      <td>327540.176609</td>\n",
       "      <td>198042.983033</td>\n",
       "      <td>9762.00</td>\n",
       "      <td>172201.750</td>\n",
       "      <td>297087.500</td>\n",
       "      <td>453039.0000</td>\n",
       "      <td>886678.00</td>\n",
       "    </tr>\n",
       "    <tr>\n",
       "      <th>fips</th>\n",
       "      <td>48276.0</td>\n",
       "      <td>6048.816886</td>\n",
       "      <td>21.391311</td>\n",
       "      <td>6037.00</td>\n",
       "      <td>6037.000</td>\n",
       "      <td>6037.000</td>\n",
       "      <td>6059.0000</td>\n",
       "      <td>6111.00</td>\n",
       "    </tr>\n",
       "  </tbody>\n",
       "</table>\n",
       "</div>"
      ],
      "text/plain": [
       "               count           mean            std      min         25%  \\\n",
       "bedrooms     48276.0       3.216070       0.784326     2.00       3.000   \n",
       "bathrooms    48276.0       2.058994       0.707377     1.00       2.000   \n",
       "square_feet  48276.0    1657.320283     564.625893   440.00    1233.000   \n",
       "year         48276.0    1959.565913      20.354878  1862.00    1949.000   \n",
       "taxes        48276.0    4068.313504    2250.980020    20.24    2356.075   \n",
       "home_value   48276.0  327540.176609  198042.983033  9762.00  172201.750   \n",
       "fips         48276.0    6048.816886      21.391311  6037.00    6037.000   \n",
       "\n",
       "                    50%          75%        max  \n",
       "bedrooms          3.000       4.0000       5.00  \n",
       "bathrooms         2.000       2.5000       4.00  \n",
       "square_feet    1552.000    1995.0000    3424.00  \n",
       "year           1957.000    1972.0000    2015.00  \n",
       "taxes          3754.355    5490.0575   11067.72  \n",
       "home_value   297087.500  453039.0000  886678.00  \n",
       "fips           6037.000    6059.0000    6111.00  "
      ]
     },
     "execution_count": 38,
     "metadata": {},
     "output_type": "execute_result"
    }
   ],
   "source": [
    "zillow.describe().T"
   ]
  },
  {
   "cell_type": "markdown",
   "id": "0fcf66ec",
   "metadata": {},
   "source": [
    "### To Do in successve iterations beyond MVP\n",
    "\n",
    "- [ ] (for unchecked checkbox)\n",
    "- [x] (for checked checkbox)\n",
    "\n",
    "\n",
    "- [ ] Add column for range...\n",
    "- [ ] Import additional columns of potential use\n",
    "- [ ] Derive columns from there\n",
    "    - Pool (boolean)\n",
    "    - Condition (bins)\n",
    "    - Calculate age in years\n",
    "    - Bin ages\n",
    "    - Etc.\n",
    "- [ ] Lookup / populate county based on `fips`\n",
    "- [ ] Caculate tax rate percent (`taxes`, `home_value`)\n"
   ]
  },
  {
   "cell_type": "markdown",
   "id": "3a0365ce",
   "metadata": {},
   "source": [
    "-[] Add \"inferred single family residential\" code to original SQL query (not necessary, 0 records)\n",
    "\n",
    "- [x] left join on propertylandusetype\n",
    "\n"
   ]
  },
  {
   "cell_type": "markdown",
   "id": "59ea1478",
   "metadata": {},
   "source": [
    "Minor, but kind of annoying find out why `[ ]` is not rendering as a checkbox in markdown in VS Code..."
   ]
  },
  {
   "cell_type": "markdown",
   "id": "03ddeafa",
   "metadata": {},
   "source": [
    "---"
   ]
  },
  {
   "cell_type": "markdown",
   "id": "d41fad0e",
   "metadata": {},
   "source": [
    "## Split data into train, test, validate; Then create separate x/y feature/target dataframes\n"
   ]
  },
  {
   "cell_type": "code",
   "execution_count": 39,
   "id": "b3fc8844",
   "metadata": {},
   "outputs": [],
   "source": [
    "def split_my_data(df, pct=0.10):\n",
    "    '''\n",
    "    This divides a dataframe into train, validate, and test sets. \n",
    "    Parameters - (df, pct=0.10)\n",
    "    df = dataframe you wish to split\n",
    "    pct = size of the test set, 1/2 of size of the validate set\n",
    "    Returns three dataframes (train, validate, test)\n",
    "    '''\n",
    "    train_validate, test = train_test_split(df, test_size=pct, random_state = 123)\n",
    "    train, validate = train_test_split(train_validate, test_size=pct*2, random_state = 123)\n",
    "    return train, validate, test"
   ]
  },
  {
   "cell_type": "code",
   "execution_count": 40,
   "id": "26ba0f60",
   "metadata": {},
   "outputs": [],
   "source": [
    "train, validate, test = split_my_data(zillow)"
   ]
  },
  {
   "cell_type": "code",
   "execution_count": 41,
   "id": "02259233",
   "metadata": {},
   "outputs": [
    {
     "name": "stdout",
     "output_type": "stream",
     "text": [
      "(34758, 8)\n",
      "(8690, 8)\n",
      "(4828, 8)\n"
     ]
    }
   ],
   "source": [
    "print(train.shape)\n",
    "print(validate.shape)\n",
    "print(test.shape)"
   ]
  },
  {
   "cell_type": "markdown",
   "id": "902bacd0",
   "metadata": {},
   "source": [
    "---"
   ]
  },
  {
   "cell_type": "markdown",
   "id": "d97f61b0",
   "metadata": {},
   "source": [
    "## EDA"
   ]
  },
  {
   "cell_type": "markdown",
   "id": "e7de5a5e",
   "metadata": {},
   "source": [
    "### Initial questions:\n",
    "\n",
    "1. What are drivers of tax value?\n",
    "2. What leads to lower tax values?\n",
    "3. What factors do not impact tax value?\n",
    "4. Are there any ways to combine the current data into interesting engineered features?"
   ]
  },
  {
   "cell_type": "markdown",
   "id": "304e7e0d",
   "metadata": {},
   "source": [
    "### Beginning exploration\n",
    "\n",
    "- Examine pairwaise relationships\n",
    "    - Crosstabs\n",
    "    - Corr plots\n",
    "    - Pair plots\n",
    "    - Etc."
   ]
  },
  {
   "cell_type": "code",
   "execution_count": null,
   "id": "c979ea20",
   "metadata": {},
   "outputs": [],
   "source": []
  },
  {
   "cell_type": "code",
   "execution_count": null,
   "id": "e9ac6fad",
   "metadata": {},
   "outputs": [],
   "source": []
  },
  {
   "cell_type": "code",
   "execution_count": null,
   "id": "0fc2d74d",
   "metadata": {},
   "outputs": [],
   "source": []
  },
  {
   "cell_type": "code",
   "execution_count": null,
   "id": "14559363",
   "metadata": {},
   "outputs": [],
   "source": []
  },
  {
   "cell_type": "code",
   "execution_count": null,
   "id": "d663cab4",
   "metadata": {},
   "outputs": [],
   "source": []
  },
  {
   "cell_type": "markdown",
   "id": "1ec08e2d",
   "metadata": {},
   "source": [
    "---"
   ]
  },
  {
   "cell_type": "markdown",
   "id": "37040182",
   "metadata": {},
   "source": [
    "## Data has been aquired and cleaned, now scale"
   ]
  },
  {
   "cell_type": "markdown",
   "id": "dc9133e3",
   "metadata": {},
   "source": [
    "Since even our cleaned data has a fair number of outliers still, I will use the robust scaler"
   ]
  },
  {
   "cell_type": "code",
   "execution_count": 42,
   "id": "8352cea9",
   "metadata": {},
   "outputs": [],
   "source": [
    "import sklearn.preprocessing\n",
    "from sklearn.model_selection import train_test_split\n"
   ]
  },
  {
   "cell_type": "code",
   "execution_count": 43,
   "id": "84187b97",
   "metadata": {},
   "outputs": [
    {
     "data": {
      "text/plain": [
       "<bound method NDFrame.head of        bedrooms  bathrooms  square_feet    year    taxes  home_value  fips  \\\n",
       "19522       3.0        4.0         2590  1991.0  4674.34    383862.0  6037   \n",
       "50612       3.0        2.0         1526  1975.0  6720.52    578692.0  6059   \n",
       "45562       3.0        2.0         1249  1977.0  5424.46    474325.0  6059   \n",
       "39367       3.0        2.0         2735  1971.0  2522.54    207894.0  6059   \n",
       "21161       4.0        3.0         2327  1952.0  2298.52    176914.0  6037   \n",
       "...         ...        ...          ...     ...      ...         ...   ...   \n",
       "33067       4.0        3.0         1745  1989.0  2814.72    159153.0  6037   \n",
       "33614       3.0        1.0         1114  1941.0  4608.05    384164.0  6037   \n",
       "49767       3.0        2.0         1891  1965.0  3280.02    329136.0  6059   \n",
       "47231       3.0        2.0         1095  1955.0  3980.28    336938.0  6059   \n",
       "26279       4.0        1.0         1240  1948.0  3375.03    269479.0  6037   \n",
       "\n",
       "      zip_code  \n",
       "19522  96007.0  \n",
       "50612  96183.0  \n",
       "45562  97026.0  \n",
       "39367  97040.0  \n",
       "21161  96265.0  \n",
       "...        ...  \n",
       "33067  97318.0  \n",
       "33614  96047.0  \n",
       "49767  96982.0  \n",
       "47231  96180.0  \n",
       "26279  96239.0  \n",
       "\n",
       "[34758 rows x 8 columns]>"
      ]
     },
     "execution_count": 43,
     "metadata": {},
     "output_type": "execute_result"
    }
   ],
   "source": [
    "train.head"
   ]
  },
  {
   "cell_type": "code",
   "execution_count": 47,
   "id": "5261f227",
   "metadata": {},
   "outputs": [
    {
     "data": {
      "text/plain": [
       "Text(0.5, 1.0, 'Scaled')"
      ]
     },
     "execution_count": 47,
     "metadata": {},
     "output_type": "execute_result"
    },
    {
     "data": {
      "image/png": "[encoded data removed]",
      "text/plain": [
       "<Figure size 936x432 with 2 Axes>"
      ]
     },
     "metadata": {
      "needs_background": "light"
     },
     "output_type": "display_data"
    }
   ],
   "source": [
    "\n",
    "scaler = sklearn.preprocessing.RobustScaler()\n",
    "# Note that we only call .fit with the training data,\n",
    "# but we use .transform to apply the scaling to all the data splits.\n",
    "scaler.fit(train)\n",
    "\n",
    "train_scaled = pd.DataFrame(scaler.transform(train), columns=train.columns)\n",
    "validate_scaled = pd.DataFrame(scaler.transform(validate), columns=validate.columns)\n",
    "test_scaled = pd.DataFrame(scaler.transform(test), columns=test.columns)\n",
    "\n",
    "plt.figure(figsize=(13, 6))\n",
    "plt.subplot(121)\n",
    "plt.hist(train, bins=25, ec='black')\n",
    "plt.title('Original')\n",
    "plt.subplot(122)\n",
    "plt.hist(train_scaled, bins=25, ec='black')\n",
    "plt.title('Scaled')"
   ]
  },
  {
   "cell_type": "code",
   "execution_count": 48,
   "id": "ed4ce425",
   "metadata": {},
   "outputs": [
    {
     "data": {
      "text/html": [
       "<div>\n",
       "<style scoped>\n",
       "    .dataframe tbody tr th:only-of-type {\n",
       "        vertical-align: middle;\n",
       "    }\n",
       "\n",
       "    .dataframe tbody tr th {\n",
       "        vertical-align: top;\n",
       "    }\n",
       "\n",
       "    .dataframe thead th {\n",
       "        text-align: right;\n",
       "    }\n",
       "</style>\n",
       "<table border=\"1\" class=\"dataframe\">\n",
       "  <thead>\n",
       "    <tr style=\"text-align: right;\">\n",
       "      <th></th>\n",
       "      <th>bedrooms</th>\n",
       "      <th>bathrooms</th>\n",
       "      <th>square_feet</th>\n",
       "      <th>year</th>\n",
       "      <th>taxes</th>\n",
       "      <th>home_value</th>\n",
       "      <th>fips</th>\n",
       "      <th>zip_code</th>\n",
       "    </tr>\n",
       "  </thead>\n",
       "  <tbody>\n",
       "    <tr>\n",
       "      <th>0</th>\n",
       "      <td>0.0</td>\n",
       "      <td>4.0</td>\n",
       "      <td>1.366623</td>\n",
       "      <td>1.478261</td>\n",
       "      <td>0.289991</td>\n",
       "      <td>0.307885</td>\n",
       "      <td>0.0</td>\n",
       "      <td>-0.497455</td>\n",
       "    </tr>\n",
       "    <tr>\n",
       "      <th>1</th>\n",
       "      <td>0.0</td>\n",
       "      <td>0.0</td>\n",
       "      <td>-0.031537</td>\n",
       "      <td>0.782609</td>\n",
       "      <td>0.941050</td>\n",
       "      <td>1.000083</td>\n",
       "      <td>1.0</td>\n",
       "      <td>-0.273537</td>\n",
       "    </tr>\n",
       "    <tr>\n",
       "      <th>2</th>\n",
       "      <td>0.0</td>\n",
       "      <td>0.0</td>\n",
       "      <td>-0.395532</td>\n",
       "      <td>0.869565</td>\n",
       "      <td>0.528666</td>\n",
       "      <td>0.629285</td>\n",
       "      <td>1.0</td>\n",
       "      <td>0.798982</td>\n",
       "    </tr>\n",
       "    <tr>\n",
       "      <th>3</th>\n",
       "      <td>0.0</td>\n",
       "      <td>0.0</td>\n",
       "      <td>1.557162</td>\n",
       "      <td>0.608696</td>\n",
       "      <td>-0.394673</td>\n",
       "      <td>-0.317300</td>\n",
       "      <td>1.0</td>\n",
       "      <td>0.816794</td>\n",
       "    </tr>\n",
       "    <tr>\n",
       "      <th>4</th>\n",
       "      <td>1.0</td>\n",
       "      <td>2.0</td>\n",
       "      <td>1.021025</td>\n",
       "      <td>-0.217391</td>\n",
       "      <td>-0.465953</td>\n",
       "      <td>-0.427367</td>\n",
       "      <td>0.0</td>\n",
       "      <td>-0.169211</td>\n",
       "    </tr>\n",
       "  </tbody>\n",
       "</table>\n",
       "</div>"
      ],
      "text/plain": [
       "   bedrooms  bathrooms  square_feet      year     taxes  home_value  fips  \\\n",
       "0       0.0        4.0     1.366623  1.478261  0.289991    0.307885   0.0   \n",
       "1       0.0        0.0    -0.031537  0.782609  0.941050    1.000083   1.0   \n",
       "2       0.0        0.0    -0.395532  0.869565  0.528666    0.629285   1.0   \n",
       "3       0.0        0.0     1.557162  0.608696 -0.394673   -0.317300   1.0   \n",
       "4       1.0        2.0     1.021025 -0.217391 -0.465953   -0.427367   0.0   \n",
       "\n",
       "   zip_code  \n",
       "0 -0.497455  \n",
       "1 -0.273537  \n",
       "2  0.798982  \n",
       "3  0.816794  \n",
       "4 -0.169211  "
      ]
     },
     "execution_count": 48,
     "metadata": {},
     "output_type": "execute_result"
    }
   ],
   "source": [
    "train_scaled.head()"
   ]
  },
  {
   "cell_type": "code",
   "execution_count": 49,
   "id": "7956c459",
   "metadata": {},
   "outputs": [],
   "source": [
    "# Split into x / y | features / target\n",
    "\n",
    "# Setup X and y\n",
    "X_train = train.drop(columns='home_value')\n",
    "y_train = train.home_value\n",
    "\n",
    "X_validate = validate.drop(columns='home_value')\n",
    "y_validate = validate.home_value\n",
    "\n",
    "X_test = test.drop(columns='home_value')\n",
    "y_test = test.home_value"
   ]
  },
  {
   "cell_type": "code",
   "execution_count": 50,
   "id": "7d574d72",
   "metadata": {},
   "outputs": [
    {
     "data": {
      "text/html": [
       "<div>\n",
       "<style scoped>\n",
       "    .dataframe tbody tr th:only-of-type {\n",
       "        vertical-align: middle;\n",
       "    }\n",
       "\n",
       "    .dataframe tbody tr th {\n",
       "        vertical-align: top;\n",
       "    }\n",
       "\n",
       "    .dataframe thead th {\n",
       "        text-align: right;\n",
       "    }\n",
       "</style>\n",
       "<table border=\"1\" class=\"dataframe\">\n",
       "  <thead>\n",
       "    <tr style=\"text-align: right;\">\n",
       "      <th></th>\n",
       "      <th>bedrooms</th>\n",
       "      <th>bathrooms</th>\n",
       "      <th>square_feet</th>\n",
       "      <th>year</th>\n",
       "      <th>taxes</th>\n",
       "      <th>fips</th>\n",
       "      <th>zip_code</th>\n",
       "    </tr>\n",
       "  </thead>\n",
       "  <tbody>\n",
       "    <tr>\n",
       "      <th>19522</th>\n",
       "      <td>3.0</td>\n",
       "      <td>4.0</td>\n",
       "      <td>2590</td>\n",
       "      <td>1991.0</td>\n",
       "      <td>4674.34</td>\n",
       "      <td>6037</td>\n",
       "      <td>96007.0</td>\n",
       "    </tr>\n",
       "    <tr>\n",
       "      <th>50612</th>\n",
       "      <td>3.0</td>\n",
       "      <td>2.0</td>\n",
       "      <td>1526</td>\n",
       "      <td>1975.0</td>\n",
       "      <td>6720.52</td>\n",
       "      <td>6059</td>\n",
       "      <td>96183.0</td>\n",
       "    </tr>\n",
       "    <tr>\n",
       "      <th>45562</th>\n",
       "      <td>3.0</td>\n",
       "      <td>2.0</td>\n",
       "      <td>1249</td>\n",
       "      <td>1977.0</td>\n",
       "      <td>5424.46</td>\n",
       "      <td>6059</td>\n",
       "      <td>97026.0</td>\n",
       "    </tr>\n",
       "    <tr>\n",
       "      <th>39367</th>\n",
       "      <td>3.0</td>\n",
       "      <td>2.0</td>\n",
       "      <td>2735</td>\n",
       "      <td>1971.0</td>\n",
       "      <td>2522.54</td>\n",
       "      <td>6059</td>\n",
       "      <td>97040.0</td>\n",
       "    </tr>\n",
       "    <tr>\n",
       "      <th>21161</th>\n",
       "      <td>4.0</td>\n",
       "      <td>3.0</td>\n",
       "      <td>2327</td>\n",
       "      <td>1952.0</td>\n",
       "      <td>2298.52</td>\n",
       "      <td>6037</td>\n",
       "      <td>96265.0</td>\n",
       "    </tr>\n",
       "  </tbody>\n",
       "</table>\n",
       "</div>"
      ],
      "text/plain": [
       "       bedrooms  bathrooms  square_feet    year    taxes  fips zip_code\n",
       "19522       3.0        4.0         2590  1991.0  4674.34  6037  96007.0\n",
       "50612       3.0        2.0         1526  1975.0  6720.52  6059  96183.0\n",
       "45562       3.0        2.0         1249  1977.0  5424.46  6059  97026.0\n",
       "39367       3.0        2.0         2735  1971.0  2522.54  6059  97040.0\n",
       "21161       4.0        3.0         2327  1952.0  2298.52  6037  96265.0"
      ]
     },
     "execution_count": 50,
     "metadata": {},
     "output_type": "execute_result"
    }
   ],
   "source": [
    "X_train.head()"
   ]
  },
  {
   "cell_type": "markdown",
   "id": "818ea62f",
   "metadata": {},
   "source": [
    "---"
   ]
  },
  {
   "cell_type": "markdown",
   "id": "d873bcc9",
   "metadata": {},
   "source": [
    "Data is now clean and split, proceed with creating MVP model"
   ]
  },
  {
   "cell_type": "code",
   "execution_count": null,
   "id": "72058709",
   "metadata": {},
   "outputs": [],
   "source": []
  }
 ],
 "metadata": {
  "kernelspec": {
   "display_name": "Python 3",
   "language": "python",
   "name": "python3"
  },
  "language_info": {
   "codemirror_mode": {
    "name": "ipython",
    "version": 3
   },
   "file_extension": ".py",
   "mimetype": "text/x-python",
   "name": "python",
   "nbconvert_exporter": "python",
   "pygments_lexer": "ipython3",
   "version": "3.8.8"
  }
 },
 "nbformat": 4,
 "nbformat_minor": 5
}
